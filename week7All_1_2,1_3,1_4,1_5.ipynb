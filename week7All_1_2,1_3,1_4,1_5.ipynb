{
  "nbformat": 4,
  "nbformat_minor": 0,
  "metadata": {
    "colab": {
      "provenance": [],
      "collapsed_sections": [],
      "authorship_tag": "ABX9TyOTfvu7GFr1/UfVNDAKxr9m",
      "include_colab_link": true
    },
    "kernelspec": {
      "name": "python3",
      "display_name": "Python 3"
    },
    "language_info": {
      "name": "python"
    },
    "widgets": {
      "application/vnd.jupyter.widget-state+json": {
        "115db223825f4245adbd01c4baa12491": {
          "model_module": "@jupyter-widgets/controls",
          "model_name": "HBoxModel",
          "model_module_version": "1.5.0",
          "state": {
            "_dom_classes": [],
            "_model_module": "@jupyter-widgets/controls",
            "_model_module_version": "1.5.0",
            "_model_name": "HBoxModel",
            "_view_count": null,
            "_view_module": "@jupyter-widgets/controls",
            "_view_module_version": "1.5.0",
            "_view_name": "HBoxView",
            "box_style": "",
            "children": [
              "IPY_MODEL_4b7ad9387fb74ae5a68789868b77e9e3",
              "IPY_MODEL_651d9ace11184c5ba62040ef5a6f103d",
              "IPY_MODEL_abc4a0285b3e45bfaaf7bfebf9de8825"
            ],
            "layout": "IPY_MODEL_8bc49a0fcfe94e5bb2d9b09f7cd8c26a"
          }
        },
        "4b7ad9387fb74ae5a68789868b77e9e3": {
          "model_module": "@jupyter-widgets/controls",
          "model_name": "HTMLModel",
          "model_module_version": "1.5.0",
          "state": {
            "_dom_classes": [],
            "_model_module": "@jupyter-widgets/controls",
            "_model_module_version": "1.5.0",
            "_model_name": "HTMLModel",
            "_view_count": null,
            "_view_module": "@jupyter-widgets/controls",
            "_view_module_version": "1.5.0",
            "_view_name": "HTMLView",
            "description": "",
            "description_tooltip": null,
            "layout": "IPY_MODEL_0cbe04703f1942eb9be285dc6f4ed9e3",
            "placeholder": "​",
            "style": "IPY_MODEL_d856ddc459c844bdb84432b9178ade06",
            "value": "100%"
          }
        },
        "651d9ace11184c5ba62040ef5a6f103d": {
          "model_module": "@jupyter-widgets/controls",
          "model_name": "FloatProgressModel",
          "model_module_version": "1.5.0",
          "state": {
            "_dom_classes": [],
            "_model_module": "@jupyter-widgets/controls",
            "_model_module_version": "1.5.0",
            "_model_name": "FloatProgressModel",
            "_view_count": null,
            "_view_module": "@jupyter-widgets/controls",
            "_view_module_version": "1.5.0",
            "_view_name": "ProgressView",
            "bar_style": "success",
            "description": "",
            "description_tooltip": null,
            "layout": "IPY_MODEL_b3fd16ef22d148b697d69b197ace75b6",
            "max": 170498071,
            "min": 0,
            "orientation": "horizontal",
            "style": "IPY_MODEL_47a142b964ea48d09f293eb9e0b3c273",
            "value": 170498071
          }
        },
        "abc4a0285b3e45bfaaf7bfebf9de8825": {
          "model_module": "@jupyter-widgets/controls",
          "model_name": "HTMLModel",
          "model_module_version": "1.5.0",
          "state": {
            "_dom_classes": [],
            "_model_module": "@jupyter-widgets/controls",
            "_model_module_version": "1.5.0",
            "_model_name": "HTMLModel",
            "_view_count": null,
            "_view_module": "@jupyter-widgets/controls",
            "_view_module_version": "1.5.0",
            "_view_name": "HTMLView",
            "description": "",
            "description_tooltip": null,
            "layout": "IPY_MODEL_f20b6d9df21d4259a78f8c014dc83e6d",
            "placeholder": "​",
            "style": "IPY_MODEL_faf81774525e4b8fa7aed9dc3a1595a4",
            "value": " 170498071/170498071 [00:02&lt;00:00, 88425341.11it/s]"
          }
        },
        "8bc49a0fcfe94e5bb2d9b09f7cd8c26a": {
          "model_module": "@jupyter-widgets/base",
          "model_name": "LayoutModel",
          "model_module_version": "1.2.0",
          "state": {
            "_model_module": "@jupyter-widgets/base",
            "_model_module_version": "1.2.0",
            "_model_name": "LayoutModel",
            "_view_count": null,
            "_view_module": "@jupyter-widgets/base",
            "_view_module_version": "1.2.0",
            "_view_name": "LayoutView",
            "align_content": null,
            "align_items": null,
            "align_self": null,
            "border": null,
            "bottom": null,
            "display": null,
            "flex": null,
            "flex_flow": null,
            "grid_area": null,
            "grid_auto_columns": null,
            "grid_auto_flow": null,
            "grid_auto_rows": null,
            "grid_column": null,
            "grid_gap": null,
            "grid_row": null,
            "grid_template_areas": null,
            "grid_template_columns": null,
            "grid_template_rows": null,
            "height": null,
            "justify_content": null,
            "justify_items": null,
            "left": null,
            "margin": null,
            "max_height": null,
            "max_width": null,
            "min_height": null,
            "min_width": null,
            "object_fit": null,
            "object_position": null,
            "order": null,
            "overflow": null,
            "overflow_x": null,
            "overflow_y": null,
            "padding": null,
            "right": null,
            "top": null,
            "visibility": null,
            "width": null
          }
        },
        "0cbe04703f1942eb9be285dc6f4ed9e3": {
          "model_module": "@jupyter-widgets/base",
          "model_name": "LayoutModel",
          "model_module_version": "1.2.0",
          "state": {
            "_model_module": "@jupyter-widgets/base",
            "_model_module_version": "1.2.0",
            "_model_name": "LayoutModel",
            "_view_count": null,
            "_view_module": "@jupyter-widgets/base",
            "_view_module_version": "1.2.0",
            "_view_name": "LayoutView",
            "align_content": null,
            "align_items": null,
            "align_self": null,
            "border": null,
            "bottom": null,
            "display": null,
            "flex": null,
            "flex_flow": null,
            "grid_area": null,
            "grid_auto_columns": null,
            "grid_auto_flow": null,
            "grid_auto_rows": null,
            "grid_column": null,
            "grid_gap": null,
            "grid_row": null,
            "grid_template_areas": null,
            "grid_template_columns": null,
            "grid_template_rows": null,
            "height": null,
            "justify_content": null,
            "justify_items": null,
            "left": null,
            "margin": null,
            "max_height": null,
            "max_width": null,
            "min_height": null,
            "min_width": null,
            "object_fit": null,
            "object_position": null,
            "order": null,
            "overflow": null,
            "overflow_x": null,
            "overflow_y": null,
            "padding": null,
            "right": null,
            "top": null,
            "visibility": null,
            "width": null
          }
        },
        "d856ddc459c844bdb84432b9178ade06": {
          "model_module": "@jupyter-widgets/controls",
          "model_name": "DescriptionStyleModel",
          "model_module_version": "1.5.0",
          "state": {
            "_model_module": "@jupyter-widgets/controls",
            "_model_module_version": "1.5.0",
            "_model_name": "DescriptionStyleModel",
            "_view_count": null,
            "_view_module": "@jupyter-widgets/base",
            "_view_module_version": "1.2.0",
            "_view_name": "StyleView",
            "description_width": ""
          }
        },
        "b3fd16ef22d148b697d69b197ace75b6": {
          "model_module": "@jupyter-widgets/base",
          "model_name": "LayoutModel",
          "model_module_version": "1.2.0",
          "state": {
            "_model_module": "@jupyter-widgets/base",
            "_model_module_version": "1.2.0",
            "_model_name": "LayoutModel",
            "_view_count": null,
            "_view_module": "@jupyter-widgets/base",
            "_view_module_version": "1.2.0",
            "_view_name": "LayoutView",
            "align_content": null,
            "align_items": null,
            "align_self": null,
            "border": null,
            "bottom": null,
            "display": null,
            "flex": null,
            "flex_flow": null,
            "grid_area": null,
            "grid_auto_columns": null,
            "grid_auto_flow": null,
            "grid_auto_rows": null,
            "grid_column": null,
            "grid_gap": null,
            "grid_row": null,
            "grid_template_areas": null,
            "grid_template_columns": null,
            "grid_template_rows": null,
            "height": null,
            "justify_content": null,
            "justify_items": null,
            "left": null,
            "margin": null,
            "max_height": null,
            "max_width": null,
            "min_height": null,
            "min_width": null,
            "object_fit": null,
            "object_position": null,
            "order": null,
            "overflow": null,
            "overflow_x": null,
            "overflow_y": null,
            "padding": null,
            "right": null,
            "top": null,
            "visibility": null,
            "width": null
          }
        },
        "47a142b964ea48d09f293eb9e0b3c273": {
          "model_module": "@jupyter-widgets/controls",
          "model_name": "ProgressStyleModel",
          "model_module_version": "1.5.0",
          "state": {
            "_model_module": "@jupyter-widgets/controls",
            "_model_module_version": "1.5.0",
            "_model_name": "ProgressStyleModel",
            "_view_count": null,
            "_view_module": "@jupyter-widgets/base",
            "_view_module_version": "1.2.0",
            "_view_name": "StyleView",
            "bar_color": null,
            "description_width": ""
          }
        },
        "f20b6d9df21d4259a78f8c014dc83e6d": {
          "model_module": "@jupyter-widgets/base",
          "model_name": "LayoutModel",
          "model_module_version": "1.2.0",
          "state": {
            "_model_module": "@jupyter-widgets/base",
            "_model_module_version": "1.2.0",
            "_model_name": "LayoutModel",
            "_view_count": null,
            "_view_module": "@jupyter-widgets/base",
            "_view_module_version": "1.2.0",
            "_view_name": "LayoutView",
            "align_content": null,
            "align_items": null,
            "align_self": null,
            "border": null,
            "bottom": null,
            "display": null,
            "flex": null,
            "flex_flow": null,
            "grid_area": null,
            "grid_auto_columns": null,
            "grid_auto_flow": null,
            "grid_auto_rows": null,
            "grid_column": null,
            "grid_gap": null,
            "grid_row": null,
            "grid_template_areas": null,
            "grid_template_columns": null,
            "grid_template_rows": null,
            "height": null,
            "justify_content": null,
            "justify_items": null,
            "left": null,
            "margin": null,
            "max_height": null,
            "max_width": null,
            "min_height": null,
            "min_width": null,
            "object_fit": null,
            "object_position": null,
            "order": null,
            "overflow": null,
            "overflow_x": null,
            "overflow_y": null,
            "padding": null,
            "right": null,
            "top": null,
            "visibility": null,
            "width": null
          }
        },
        "faf81774525e4b8fa7aed9dc3a1595a4": {
          "model_module": "@jupyter-widgets/controls",
          "model_name": "DescriptionStyleModel",
          "model_module_version": "1.5.0",
          "state": {
            "_model_module": "@jupyter-widgets/controls",
            "_model_module_version": "1.5.0",
            "_model_name": "DescriptionStyleModel",
            "_view_count": null,
            "_view_module": "@jupyter-widgets/base",
            "_view_module_version": "1.2.0",
            "_view_name": "StyleView",
            "description_width": ""
          }
        }
      }
    }
  },
  "cells": [
    {
      "cell_type": "markdown",
      "metadata": {
        "id": "view-in-github",
        "colab_type": "text"
      },
      "source": [
        "<a href=\"https://colab.research.google.com/github/Khai2708/Ai_application/blob/main/week7All_1_2%2C1_3%2C1_4%2C1_5.ipynb\" target=\"_parent\"><img src=\"https://colab.research.google.com/assets/colab-badge.svg\" alt=\"Open In Colab\"/></a>"
      ]
    },
    {
      "cell_type": "code",
      "execution_count": 1,
      "metadata": {
        "colab": {
          "base_uri": "https://localhost:8080/"
        },
        "id": "fn0zPSJGfOhH",
        "outputId": "18c3910d-9c00-41bc-f698-d35d837b80a5"
      },
      "outputs": [
        {
          "output_type": "stream",
          "name": "stdout",
          "text": [
            "Looking in indexes: https://pypi.org/simple, https://us-python.pkg.dev/colab-wheels/public/simple/\n",
            "Requirement already satisfied: requests in /usr/local/lib/python3.7/dist-packages (2.23.0)\n",
            "Requirement already satisfied: chardet<4,>=3.0.2 in /usr/local/lib/python3.7/dist-packages (from requests) (3.0.4)\n",
            "Requirement already satisfied: certifi>=2017.4.17 in /usr/local/lib/python3.7/dist-packages (from requests) (2022.9.24)\n",
            "Requirement already satisfied: idna<3,>=2.5 in /usr/local/lib/python3.7/dist-packages (from requests) (2.10)\n",
            "Requirement already satisfied: urllib3!=1.25.0,!=1.25.1,<1.26,>=1.21.1 in /usr/local/lib/python3.7/dist-packages (from requests) (1.24.3)\n"
          ]
        }
      ],
      "source": [
        "!pip install requests"
      ]
    },
    {
      "cell_type": "code",
      "source": [
        "import requests\n",
        "url = \"https://raw.githubusercontent.com/NVDLI/LDL/main/pt_framework/utilities.py\" \n",
        "r=requests.get(url) \n",
        "with open('utilities.py', 'w') as f: \n",
        "  f.write(r.text)"
      ],
      "metadata": {
        "id": "12uCwX8Flipx"
      },
      "execution_count": 2,
      "outputs": []
    },
    {
      "cell_type": "code",
      "source": [
        "import torch\n",
        "import torch.nn as nn\n",
        "import torchvision\n",
        "import torchvision. transforms as transforms\n",
        "from torchvision.datasets import CIFAR10 \n",
        "from torch.utils.data import DataLoader\n",
        "import numpy as np\n",
        "from utilities import train_model\n",
        "\n",
        "device = torch.device(\"cuda:0\" if torch.cuda.is_available() else \"cpu\")\n",
        "\n",
        "EPOCHS = 30\n",
        "\n",
        "BATCH_SIZE=32\n",
        "\n",
        "\n",
        "\n",
        "transform = transforms.Compose([transforms. ToTensor()]) \n",
        "trainset=CIFAR10(root=\"./pt_data\", train=True, download=True, transform=transform) \n",
        "trainloader=DataLoader(trainset, batch_size=len(trainset), shuffle=False) \n",
        "data=next(iter (trainloader))\n",
        "\n",
        "mean = data[0].mean()\n",
        "\n",
        "stddev = data[0].std()"
      ],
      "metadata": {
        "colab": {
          "base_uri": "https://localhost:8080/",
          "height": 104,
          "referenced_widgets": [
            "115db223825f4245adbd01c4baa12491",
            "4b7ad9387fb74ae5a68789868b77e9e3",
            "651d9ace11184c5ba62040ef5a6f103d",
            "abc4a0285b3e45bfaaf7bfebf9de8825",
            "8bc49a0fcfe94e5bb2d9b09f7cd8c26a",
            "0cbe04703f1942eb9be285dc6f4ed9e3",
            "d856ddc459c844bdb84432b9178ade06",
            "b3fd16ef22d148b697d69b197ace75b6",
            "47a142b964ea48d09f293eb9e0b3c273",
            "f20b6d9df21d4259a78f8c014dc83e6d",
            "faf81774525e4b8fa7aed9dc3a1595a4"
          ]
        },
        "id": "8jE3q-W_meXs",
        "outputId": "a775173b-d853-48c4-a0f3-601b8db534f6"
      },
      "execution_count": 3,
      "outputs": [
        {
          "output_type": "stream",
          "name": "stdout",
          "text": [
            "Downloading https://www.cs.toronto.edu/~kriz/cifar-10-python.tar.gz to ./pt_data/cifar-10-python.tar.gz\n"
          ]
        },
        {
          "output_type": "display_data",
          "data": {
            "text/plain": [
              "  0%|          | 0/170498071 [00:00<?, ?it/s]"
            ],
            "application/vnd.jupyter.widget-view+json": {
              "version_major": 2,
              "version_minor": 0,
              "model_id": "115db223825f4245adbd01c4baa12491"
            }
          },
          "metadata": {}
        },
        {
          "output_type": "stream",
          "name": "stdout",
          "text": [
            "Extracting ./pt_data/cifar-10-python.tar.gz to ./pt_data\n"
          ]
        }
      ]
    },
    {
      "cell_type": "code",
      "source": [
        "transform=transforms.Compose( \n",
        "    [transforms.ToTensor(),\n",
        "     transforms.Normalize(mean,stddev)])\n",
        "\n",
        "trainset = CIFAR10(root='./pt_data', train=True, download=True,transform=transform) \n",
        "testset = CIFAR10(root='./pt_data', train=False, download=True,transform=transform)\n",
        "\n",
        "\n",
        "model = nn. Sequential(\n",
        "    nn.Conv2d(3, 64, 5, stride=2, padding=2),\n",
        "    nn.ReLU(),\n",
        "    nn. Conv2d(64, 64, 3, stride=2, padding=1),\n",
        "    nn.ReLU(),\n",
        "    nn.Flatten(),\n",
        "    nn.Linear (64*8*8, 10)\n",
        ")"
      ],
      "metadata": {
        "colab": {
          "base_uri": "https://localhost:8080/"
        },
        "id": "9qOESULammKs",
        "outputId": "07aa3321-e91f-4fea-99db-c752f4f53515"
      },
      "execution_count": 4,
      "outputs": [
        {
          "output_type": "stream",
          "name": "stdout",
          "text": [
            "Files already downloaded and verified\n",
            "Files already downloaded and verified\n"
          ]
        }
      ]
    },
    {
      "cell_type": "code",
      "source": [
        "layers = next (model.modules())\n",
        "conv_layer0=layers[0]\n",
        "\n",
        "conv_layer1=layers[2]\n",
        "\n",
        "output_layer=layers[5]\n",
        "\n",
        "\n",
        "nn.init.kaiming_normal_(conv_layer0.weight)\n",
        "\n",
        "nn.init.constant(conv_layer0.bias,0.0)\n",
        "\n",
        "nn.init.kaiming_normal_(conv_layer1.weight)\n",
        "\n",
        "nn.init.constant (conv_layer1.bias, 0.0)\n",
        "\n",
        "nn. init.xavier_uniform (output_layer.weight)\n",
        "\n",
        "nn.init.constant (output_layer.bias, 0.0)\n",
        "\n",
        "optimizer = torch.optim.Adam(model.parameters()) \n",
        "loss_function = nn.CrossEntropyLoss()\n",
        "\n",
        "train_model(model, device, EPOCHS, BATCH_SIZE, trainset, testset, optimizer, loss_function, 'acc')\n"
      ],
      "metadata": {
        "colab": {
          "base_uri": "https://localhost:8080/"
        },
        "id": "9HRu7Dctmx_Z",
        "outputId": "2d73c3e1-9056-45f1-c514-3c3d25055cb2"
      },
      "execution_count": 5,
      "outputs": [
        {
          "output_type": "stream",
          "name": "stderr",
          "text": [
            "/usr/local/lib/python3.7/dist-packages/ipykernel_launcher.py:11: UserWarning: nn.init.constant is now deprecated in favor of nn.init.constant_.\n",
            "  # This is added back by InteractiveShellApp.init_path()\n",
            "/usr/local/lib/python3.7/dist-packages/ipykernel_launcher.py:15: UserWarning: nn.init.constant is now deprecated in favor of nn.init.constant_.\n",
            "  from ipykernel import kernelapp as app\n",
            "/usr/local/lib/python3.7/dist-packages/ipykernel_launcher.py:17: UserWarning: nn.init.xavier_uniform is now deprecated in favor of nn.init.xavier_uniform_.\n",
            "/usr/local/lib/python3.7/dist-packages/ipykernel_launcher.py:19: UserWarning: nn.init.constant is now deprecated in favor of nn.init.constant_.\n"
          ]
        },
        {
          "output_type": "stream",
          "name": "stdout",
          "text": [
            "Epoch 1/30 loss: 1.3950 - acc: 0.5085 - val_loss: 1.1783 - val_acc: 0.5889\n",
            "Epoch 2/30 loss: 1.0406 - acc: 0.6388 - val_loss: 1.0805 - val_acc: 0.6227\n",
            "Epoch 3/30 loss: 0.9041 - acc: 0.6876 - val_loss: 1.0361 - val_acc: 0.6448\n",
            "Epoch 4/30 loss: 0.8072 - acc: 0.7205 - val_loss: 1.0374 - val_acc: 0.6485\n",
            "Epoch 5/30 loss: 0.7215 - acc: 0.7495 - val_loss: 1.0483 - val_acc: 0.6511\n",
            "Epoch 6/30 loss: 0.6505 - acc: 0.7743 - val_loss: 1.0945 - val_acc: 0.6539\n",
            "Epoch 7/30 loss: 0.5935 - acc: 0.7925 - val_loss: 1.1272 - val_acc: 0.6501\n",
            "Epoch 8/30 loss: 0.5432 - acc: 0.8087 - val_loss: 1.1804 - val_acc: 0.6539\n",
            "Epoch 9/30 loss: 0.4970 - acc: 0.8268 - val_loss: 1.2367 - val_acc: 0.6439\n",
            "Epoch 10/30 loss: 0.4520 - acc: 0.8386 - val_loss: 1.3403 - val_acc: 0.6402\n",
            "Epoch 11/30 loss: 0.4181 - acc: 0.8505 - val_loss: 1.3962 - val_acc: 0.6386\n",
            "Epoch 12/30 loss: 0.3866 - acc: 0.8625 - val_loss: 1.4608 - val_acc: 0.6338\n",
            "Epoch 13/30 loss: 0.3550 - acc: 0.8737 - val_loss: 1.5695 - val_acc: 0.6393\n",
            "Epoch 14/30 loss: 0.3327 - acc: 0.8802 - val_loss: 1.6268 - val_acc: 0.6375\n",
            "Epoch 15/30 loss: 0.3021 - acc: 0.8927 - val_loss: 1.7923 - val_acc: 0.6294\n",
            "Epoch 16/30 loss: 0.2884 - acc: 0.8952 - val_loss: 1.8907 - val_acc: 0.6221\n",
            "Epoch 17/30 loss: 0.2703 - acc: 0.9024 - val_loss: 1.9230 - val_acc: 0.6317\n",
            "Epoch 18/30 loss: 0.2538 - acc: 0.9088 - val_loss: 2.0425 - val_acc: 0.6307\n",
            "Epoch 19/30 loss: 0.2356 - acc: 0.9151 - val_loss: 2.1409 - val_acc: 0.6297\n",
            "Epoch 20/30 loss: 0.2264 - acc: 0.9180 - val_loss: 2.1720 - val_acc: 0.6296\n",
            "Epoch 21/30 loss: 0.2193 - acc: 0.9196 - val_loss: 2.2291 - val_acc: 0.6340\n",
            "Epoch 22/30 loss: 0.2005 - acc: 0.9272 - val_loss: 2.4058 - val_acc: 0.6173\n",
            "Epoch 23/30 loss: 0.1959 - acc: 0.9301 - val_loss: 2.5081 - val_acc: 0.6321\n",
            "Epoch 24/30 loss: 0.1896 - acc: 0.9312 - val_loss: 2.5798 - val_acc: 0.6224\n",
            "Epoch 25/30 loss: 0.1917 - acc: 0.9324 - val_loss: 2.6691 - val_acc: 0.6236\n",
            "Epoch 26/30 loss: 0.1703 - acc: 0.9392 - val_loss: 2.7932 - val_acc: 0.6200\n",
            "Epoch 27/30 loss: 0.1698 - acc: 0.9394 - val_loss: 2.8534 - val_acc: 0.6269\n",
            "Epoch 28/30 loss: 0.1727 - acc: 0.9395 - val_loss: 2.9446 - val_acc: 0.6255\n",
            "Epoch 29/30 loss: 0.1592 - acc: 0.9441 - val_loss: 3.1198 - val_acc: 0.6249\n",
            "Epoch 30/30 loss: 0.1603 - acc: 0.9433 - val_loss: 3.1065 - val_acc: 0.6261\n"
          ]
        },
        {
          "output_type": "execute_result",
          "data": {
            "text/plain": [
              "[0.94329814459373, 0.6260982428115016]"
            ]
          },
          "metadata": {},
          "execution_count": 5
        }
      ]
    },
    {
      "cell_type": "code",
      "source": [],
      "metadata": {
        "id": "hoAmSxiHm5pS"
      },
      "execution_count": null,
      "outputs": []
    }
  ]
}