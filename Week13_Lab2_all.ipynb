{
  "nbformat": 4,
  "nbformat_minor": 0,
  "metadata": {
    "colab": {
      "provenance": [],
      "authorship_tag": "ABX9TyN6vk/5ib65Fu/t+Ej5pBxR",
      "include_colab_link": true
    },
    "kernelspec": {
      "name": "python3",
      "display_name": "Python 3"
    },
    "language_info": {
      "name": "python"
    },
    "accelerator": "GPU",
    "gpuClass": "standard"
  },
  "cells": [
    {
      "cell_type": "markdown",
      "metadata": {
        "id": "view-in-github",
        "colab_type": "text"
      },
      "source": [
        "<a href=\"https://colab.research.google.com/github/Khai2708/Ai_application/blob/main/Week13_Lab2_all.ipynb\" target=\"_parent\"><img src=\"https://colab.research.google.com/assets/colab-badge.svg\" alt=\"Open In Colab\"/></a>"
      ]
    },
    {
      "cell_type": "code",
      "source": [
        "#This notebook was generated for TensorFlow 2.6.\n",
        "#Processing words as a sequence: The sequence model approach\n",
        "#A first practical example\n",
        "#Downloading the data\n",
        "!curl -O https://ai.stanford.edu/~amaas/data/sentiment/aclImdb_v1.tar.gz\n",
        "!tar -xf aclImdb_v1.tar.gz\n",
        "!rm -r aclImdb/train/unsup\n"
      ],
      "metadata": {
        "colab": {
          "base_uri": "https://localhost:8080/"
        },
        "id": "iOJWlHMSQ8n5",
        "outputId": "861cc53f-dc98-43f9-cfae-9762f17675bf"
      },
      "execution_count": null,
      "outputs": [
        {
          "metadata": {
            "tags": null
          },
          "name": "stdout",
          "output_type": "stream",
          "text": [
            "  % Total    % Received % Xferd  Average Speed   Time    Time     Time  Current\n",
            "                                 Dload  Upload   Total   Spent    Left  Speed\n",
            "100 80.2M  100 80.2M    0     0  9189k      0  0:00:08  0:00:08 --:--:-- 16.1M\n"
          ]
        }
      ]
    },
    {
      "cell_type": "markdown",
      "source": [],
      "metadata": {
        "id": "dr88kI2EPbp3"
      }
    },
    {
      "cell_type": "code",
      "source": [
        "#Preparing the data\n",
        "import os, pathlib, shutil, random \n",
        "from tensorflow import keras\n",
        "batch_size = 32\n",
        "base_dir = pathlib.Path(\"aclImdb\")\n",
        "val_dir = base_dir / \"val\"\n",
        "train_dir = base_dir / \"train\"\n",
        "for category in (\"neg\", \"pos\"):\n",
        "  try:\n",
        "    os.makedirs(val_dir / category)\n",
        "  except FileExistsError:\n",
        "    pass\n",
        "  \n",
        "  files = os.listdir(train_dir / category)\n",
        "  random.Random(1337).shuffle(files)\n",
        "  num_val_samples = int(0.2 * len(files))\n",
        "  val_files = files[- num_val_samples:]\n",
        "  for fname in val_files:\n",
        "    shutil.move(train_dir / category / fname,\n",
        "                val_dir / category / fname)\n",
        "    \n",
        "train_ds = keras.utils.text_dataset_from_directory(\n",
        "    \"aclImdb/train\", batch_size=batch_size\n",
        ")\n",
        "val_ds = keras.utils.text_dataset_from_directory(\n",
        "    \"aclImdb/val\", batch_size=batch_size\n",
        ")\n",
        "test_ds= keras.utils.text_dataset_from_directory(\n",
        "    \"aclImdb/test\", batch_size=batch_size\n",
        ")\n",
        "text_only_train_ds = train_ds.map(lambda x, y: x)"
      ],
      "metadata": {
        "colab": {
          "base_uri": "https://localhost:8080/"
        },
        "id": "B7fsxKfBSCTh",
        "outputId": "64b4c019-1000-4eb9-bdc9-0b1e4c117d58"
      },
      "execution_count": null,
      "outputs": [
        {
          "output_type": "stream",
          "name": "stdout",
          "text": [
            "Found 20000 files belonging to 2 classes.\n",
            "Found 5000 files belonging to 2 classes.\n",
            "Found 25000 files belonging to 2 classes.\n"
          ]
        }
      ]
    },
    {
      "cell_type": "code",
      "source": [
        "#Preparing integer sequence datasets\n",
        "from tensorflow.keras import layers\n",
        "\n",
        "max_length = 600\n",
        "max_tokens = 20000\n",
        "text_vectorization = layers.TextVectorization(\n",
        "    max_tokens=max_tokens, output_mode=\"int\", output_sequence_length=max_length,\n",
        ")\n",
        "text_vectorization.adapt(text_only_train_ds)\n",
        "\n",
        "int_train_ds= train_ds.map(\n",
        "    lambda x, y: (text_vectorization(x), y), \n",
        "    num_parallel_calls=4)\n",
        "int_val_ds = val_ds.map(\n",
        "    lambda x, y: (text_vectorization(x), y), \n",
        "    num_parallel_calls=4)\n",
        "int_test_ds = test_ds.map(\n",
        "    lambda x, y: (text_vectorization(x), y),\n",
        "    num_parallel_calls=4)\n"
      ],
      "metadata": {
        "id": "ERMAdP2ETKDo"
      },
      "execution_count": null,
      "outputs": []
    },
    {
      "cell_type": "code",
      "source": [
        "#A sequence model built on one-hot encoded vector sequences\n",
        "import tensorflow as tf\n",
        "inputs = keras.Input(shape=(None,), dtype=\"int64\")\n",
        "embedded = tf.one_hot(inputs, depth=max_tokens)\n",
        "x = layers.Bidirectional(layers.LSTM(32))(embedded)\n",
        "x = layers.Dropout (0.5)(x)\n",
        "outputs = layers.Dense(1, activation=\"sigmoid\")(x)\n",
        "model = keras.Model (inputs, outputs)\n",
        "model.compile(optimizer=\"rmsprop\",\n",
        "              loss=\"binary_crossentropy\", \n",
        "              metrics= [\"accuracy\"])\n",
        "\n",
        "model.summary ()\n"
      ],
      "metadata": {
        "colab": {
          "base_uri": "https://localhost:8080/"
        },
        "id": "Pa2YeofsGhRx",
        "outputId": "3fc2fd00-09f1-4e42-e09d-fc1fc262a6ec"
      },
      "execution_count": null,
      "outputs": [
        {
          "output_type": "stream",
          "name": "stdout",
          "text": [
            "Model: \"model\"\n",
            "_________________________________________________________________\n",
            " Layer (type)                Output Shape              Param #   \n",
            "=================================================================\n",
            " input_1 (InputLayer)        [(None, None)]            0         \n",
            "                                                                 \n",
            " tf.one_hot (TFOpLambda)     (None, None, 20000)       0         \n",
            "                                                                 \n",
            " bidirectional (Bidirectiona  (None, 64)               5128448   \n",
            " l)                                                              \n",
            "                                                                 \n",
            " dropout (Dropout)           (None, 64)                0         \n",
            "                                                                 \n",
            " dense (Dense)               (None, 1)                 65        \n",
            "                                                                 \n",
            "=================================================================\n",
            "Total params: 5,128,513\n",
            "Trainable params: 5,128,513\n",
            "Non-trainable params: 0\n",
            "_________________________________________________________________\n"
          ]
        }
      ]
    },
    {
      "cell_type": "code",
      "source": [
        "#Training a first basic sequence model\n",
        "callbacks = [\n",
        "    keras.callbacks.ModelCheckpoint(\"one_hot_bidir_lstm.keras\",\n",
        "    save_best_only=True)\n",
        "]\n",
        "model.fit(int_train_ds, validation_data=int_val_ds, epochs=10, callbacks=callbacks)\n",
        "model = keras.models.load_model(\"one_hot_bidir_lstm.keras\")\n",
        "print(f\"Test acc: {model.evaluate(int_test_ds)[1]:.3f}\")"
      ],
      "metadata": {
        "colab": {
          "base_uri": "https://localhost:8080/"
        },
        "id": "SWKaefsOHPTR",
        "outputId": "0952a192-fcec-4997-e6d0-332d85a6822d"
      },
      "execution_count": null,
      "outputs": [
        {
          "output_type": "stream",
          "name": "stdout",
          "text": [
            "Epoch 1/10\n",
            "625/625 [==============================] - 178s 272ms/step - loss: 0.5311 - accuracy: 0.7419 - val_loss: 0.3694 - val_accuracy: 0.8574\n",
            "Epoch 2/10\n",
            "625/625 [==============================] - 171s 273ms/step - loss: 0.3263 - accuracy: 0.8801 - val_loss: 0.3026 - val_accuracy: 0.8844\n",
            "Epoch 3/10\n",
            "625/625 [==============================] - 170s 272ms/step - loss: 0.2581 - accuracy: 0.9096 - val_loss: 0.3705 - val_accuracy: 0.8798\n",
            "Epoch 4/10\n",
            "625/625 [==============================] - 171s 273ms/step - loss: 0.2222 - accuracy: 0.9229 - val_loss: 0.3357 - val_accuracy: 0.8792\n",
            "Epoch 5/10\n",
            "625/625 [==============================] - 171s 273ms/step - loss: 0.2013 - accuracy: 0.9323 - val_loss: 0.3247 - val_accuracy: 0.8812\n",
            "Epoch 6/10\n",
            "625/625 [==============================] - 169s 271ms/step - loss: 0.1748 - accuracy: 0.9431 - val_loss: 0.3521 - val_accuracy: 0.8858\n",
            "Epoch 7/10\n",
            "625/625 [==============================] - 171s 274ms/step - loss: 0.1500 - accuracy: 0.9521 - val_loss: 0.3503 - val_accuracy: 0.8842\n",
            "Epoch 8/10\n",
            "625/625 [==============================] - 171s 273ms/step - loss: 0.1331 - accuracy: 0.9567 - val_loss: 0.3446 - val_accuracy: 0.8746\n",
            "Epoch 9/10\n",
            "625/625 [==============================] - 170s 273ms/step - loss: 0.1081 - accuracy: 0.9664 - val_loss: 0.3717 - val_accuracy: 0.8784\n",
            "Epoch 10/10\n",
            "625/625 [==============================] - 172s 275ms/step - loss: 0.0900 - accuracy: 0.9711 - val_loss: 0.3875 - val_accuracy: 0.8798\n",
            "782/782 [==============================] - 104s 132ms/step - loss: 0.3047 - accuracy: 0.8800\n",
            "Test acc: 0.880\n"
          ]
        }
      ]
    },
    {
      "cell_type": "code",
      "source": [
        "#Understanding word embeddings\n",
        "#Learning word embeddings with the Embedding layer\n",
        "#Instantiating an Embedding layer\n",
        "embedding_layer = layers.Embedding(input_dim=max_tokens, output_dim=256)\n"
      ],
      "metadata": {
        "id": "keSqn7rxIFf6"
      },
      "execution_count": null,
      "outputs": []
    },
    {
      "cell_type": "code",
      "source": [
        "#Model that uses an Embedding layer trained from scratch\n",
        "inputs = keras.Input (shape=(None, ), dtype=\"int64\")\n",
        "embedded = layers.Embedding(input_dim=max_tokens, output_dim=256) (inputs)\n",
        "x = layers.Bidirectional (layers.LSTM(32))(embedded)\n",
        "x = layers.Dropout (0.5)(x)\n",
        "outputs = layers.Dense (1, activation=\"sigmoid\")(x)\n",
        "model = keras.Model(inputs, outputs)\n",
        "model.compile(optimizer=\"rmsprop\",\n",
        "              loss=\"binary_crossentropy\", \n",
        "              metrics= [\"accuracy\"])\n",
        "model. summary ()\n",
        "\n",
        "callbacks = [\n",
        "    keras.callbacks.ModelCheckpoint(\"embeddings_bidir_gru.keras\",\n",
        "                                    save_best_only=True)\n",
        "]\n",
        "\n",
        "model.fit(int_train_ds, validation_data=int_val_ds, epochs=10, callbacks=callbacks)\n",
        "model = keras.models.load_model(\"embeddings_bidir_gru.keras\")\n",
        "print(f\"Test acc: {model.evaluate(int_test_ds) [1]:.3f}\")\n"
      ],
      "metadata": {
        "colab": {
          "base_uri": "https://localhost:8080/"
        },
        "id": "EuGzWdbIH_qs",
        "outputId": "ab057676-e38a-4a12-a82c-c53ad17a35cd"
      },
      "execution_count": null,
      "outputs": [
        {
          "output_type": "stream",
          "name": "stdout",
          "text": [
            "Model: \"model_1\"\n",
            "_________________________________________________________________\n",
            " Layer (type)                Output Shape              Param #   \n",
            "=================================================================\n",
            " input_2 (InputLayer)        [(None, None)]            0         \n",
            "                                                                 \n",
            " embedding_1 (Embedding)     (None, None, 256)         5120000   \n",
            "                                                                 \n",
            " bidirectional_1 (Bidirectio  (None, 64)               73984     \n",
            " nal)                                                            \n",
            "                                                                 \n",
            " dropout_1 (Dropout)         (None, 64)                0         \n",
            "                                                                 \n",
            " dense_1 (Dense)             (None, 1)                 65        \n",
            "                                                                 \n",
            "=================================================================\n",
            "Total params: 5,194,049\n",
            "Trainable params: 5,194,049\n",
            "Non-trainable params: 0\n",
            "_________________________________________________________________\n",
            "Epoch 1/10\n",
            "625/625 [==============================] - 37s 53ms/step - loss: 0.4654 - accuracy: 0.7945 - val_loss: 0.3968 - val_accuracy: 0.8304\n",
            "Epoch 2/10\n",
            "625/625 [==============================] - 34s 54ms/step - loss: 0.3049 - accuracy: 0.8892 - val_loss: 0.3971 - val_accuracy: 0.8590\n",
            "Epoch 3/10\n",
            "625/625 [==============================] - 34s 53ms/step - loss: 0.2440 - accuracy: 0.9159 - val_loss: 0.3180 - val_accuracy: 0.8738\n",
            "Epoch 4/10\n",
            "625/625 [==============================] - 32s 51ms/step - loss: 0.1956 - accuracy: 0.9335 - val_loss: 0.3443 - val_accuracy: 0.8868\n",
            "Epoch 5/10\n",
            "625/625 [==============================] - 32s 52ms/step - loss: 0.1756 - accuracy: 0.9439 - val_loss: 0.3604 - val_accuracy: 0.8638\n",
            "Epoch 6/10\n",
            "625/625 [==============================] - 32s 52ms/step - loss: 0.1462 - accuracy: 0.9509 - val_loss: 0.4281 - val_accuracy: 0.8588\n",
            "Epoch 7/10\n",
            "625/625 [==============================] - 32s 51ms/step - loss: 0.1192 - accuracy: 0.9622 - val_loss: 0.4520 - val_accuracy: 0.8872\n",
            "Epoch 8/10\n",
            "625/625 [==============================] - 33s 52ms/step - loss: 0.1001 - accuracy: 0.9678 - val_loss: 0.4422 - val_accuracy: 0.8728\n",
            "Epoch 9/10\n",
            "625/625 [==============================] - 34s 54ms/step - loss: 0.0811 - accuracy: 0.9742 - val_loss: 0.6175 - val_accuracy: 0.8552\n",
            "Epoch 10/10\n",
            "625/625 [==============================] - 33s 53ms/step - loss: 0.0648 - accuracy: 0.9801 - val_loss: 0.4660 - val_accuracy: 0.8806\n",
            "782/782 [==============================] - 28s 34ms/step - loss: 0.3475 - accuracy: 0.8653\n",
            "Test acc: 0.865\n"
          ]
        }
      ]
    },
    {
      "cell_type": "code",
      "source": [
        "#Understanding padding and masking\n",
        "#Using an Embedding layer with masking enabled\n",
        "inputs = keras.Input(shape= (None,), dtype=\"int64\")\n",
        "embedded = layers.Embedding(\n",
        "input_dim=max_tokens, output_dim=256, mask_zero=True)(inputs)\n",
        "x = layers.Bidirectional(layers.LSTM(32))(embedded)\n",
        "x = layers.Dropout(0.5)(x)\n",
        "outputs = layers.Dense(1, activation=\"sigmoid\")(x)\n",
        "model = keras.Model (inputs, outputs)\n",
        "model.compile(optimizer=\"rmsprop\",\n",
        "              loss=\"binary_crossentropy\",\n",
        "              metrics=[\"accuracy\"])\n",
        "model.summary()\n",
        "callbacks = [\n",
        "keras.callbacks.ModelCheckpoint(\"embeddings_bidir_gru_with_masking.keras\",\n",
        "                                save_best_only=True)\n",
        "]\n",
        "model.fit(int_train_ds, validation_data=int_val_ds, epochs=10, callbacks=callbacks)\n",
        "model = keras.models.load_model(\"embeddings_bidir_gru_with_masking.keras\")\n",
        "print(f\"Test acc: {model.evaluate(int_test_ds)[1]:.3f}\")"
      ],
      "metadata": {
        "colab": {
          "base_uri": "https://localhost:8080/"
        },
        "id": "RXuId44XJGzS",
        "outputId": "c73b3e19-438e-43d4-83dc-3c61f49d1a54"
      },
      "execution_count": null,
      "outputs": [
        {
          "output_type": "stream",
          "name": "stdout",
          "text": [
            "Model: \"model_2\"\n",
            "_________________________________________________________________\n",
            " Layer (type)                Output Shape              Param #   \n",
            "=================================================================\n",
            " input_3 (InputLayer)        [(None, None)]            0         \n",
            "                                                                 \n",
            " embedding_2 (Embedding)     (None, None, 256)         5120000   \n",
            "                                                                 \n",
            " bidirectional_2 (Bidirectio  (None, 64)               73984     \n",
            " nal)                                                            \n",
            "                                                                 \n",
            " dropout_2 (Dropout)         (None, 64)                0         \n",
            "                                                                 \n",
            " dense_2 (Dense)             (None, 1)                 65        \n",
            "                                                                 \n",
            "=================================================================\n",
            "Total params: 5,194,049\n",
            "Trainable params: 5,194,049\n",
            "Non-trainable params: 0\n",
            "_________________________________________________________________\n",
            "Epoch 1/10\n",
            "625/625 [==============================] - 51s 68ms/step - loss: 0.4039 - accuracy: 0.8138 - val_loss: 0.3047 - val_accuracy: 0.8718\n",
            "Epoch 2/10\n",
            "625/625 [==============================] - 38s 60ms/step - loss: 0.2306 - accuracy: 0.9117 - val_loss: 0.4043 - val_accuracy: 0.8564\n",
            "Epoch 3/10\n",
            "625/625 [==============================] - 38s 60ms/step - loss: 0.1677 - accuracy: 0.9383 - val_loss: 0.2930 - val_accuracy: 0.8876\n",
            "Epoch 4/10\n",
            "625/625 [==============================] - 38s 61ms/step - loss: 0.1246 - accuracy: 0.9542 - val_loss: 0.3965 - val_accuracy: 0.8800\n",
            "Epoch 5/10\n",
            "625/625 [==============================] - 41s 65ms/step - loss: 0.0919 - accuracy: 0.9693 - val_loss: 0.3639 - val_accuracy: 0.8800\n",
            "Epoch 6/10\n",
            "625/625 [==============================] - 39s 62ms/step - loss: 0.0683 - accuracy: 0.9768 - val_loss: 0.4736 - val_accuracy: 0.8732\n",
            "Epoch 7/10\n",
            "625/625 [==============================] - 38s 61ms/step - loss: 0.0507 - accuracy: 0.9832 - val_loss: 0.4538 - val_accuracy: 0.8778\n",
            "Epoch 8/10\n",
            "625/625 [==============================] - 40s 64ms/step - loss: 0.0341 - accuracy: 0.9884 - val_loss: 0.5074 - val_accuracy: 0.8724\n",
            "Epoch 9/10\n",
            "625/625 [==============================] - 40s 64ms/step - loss: 0.0269 - accuracy: 0.9916 - val_loss: 0.5008 - val_accuracy: 0.8728\n",
            "Epoch 10/10\n",
            "625/625 [==============================] - 38s 60ms/step - loss: 0.0195 - accuracy: 0.9937 - val_loss: 0.6089 - val_accuracy: 0.8728\n",
            "782/782 [==============================] - 27s 31ms/step - loss: 0.3152 - accuracy: 0.8765\n",
            "Test acc: 0.876\n"
          ]
        }
      ]
    },
    {
      "cell_type": "code",
      "source": [
        "#Using pretrained word embeddings\n",
        "!wget http://nlp.stanford.edu/data/glove.6B.zip\n",
        "!unzip -q glove.6B.zip\n"
      ],
      "metadata": {
        "id": "64KadfRuKzW0"
      },
      "execution_count": null,
      "outputs": []
    },
    {
      "cell_type": "code",
      "source": [
        "#Parsing the GloVe word-embeddings file\n",
        "import numpy as np\n",
        "path_to_glove_file = \"glove.6B.100d.txt\"\n",
        "\n",
        "embeddings_index = {}\n",
        "with open(path_to_glove_file) as f:\n",
        "  for line in f:\n",
        "    word, coefs = line.split(maxsplit=1)\n",
        "    coefs = np.fromstring(coefs, \"f\", sep=\" \")\n",
        "    embeddings_index[word] = coefs\n",
        "\n",
        "print(f\"Found {len(embeddings index)} word vectors.\")"
      ],
      "metadata": {
        "id": "F9Wp0QAIKzDH"
      },
      "execution_count": null,
      "outputs": []
    },
    {
      "cell_type": "code",
      "source": [
        "#Preparing the GloVe word-embeddings matrix\n",
        "embedding_dim = 100\n",
        "\n",
        "vocabulary = text_vectorization.get_vocabulary ()\n",
        "word_index = dict(zip(vocabulary, range(len(vocabulary))))\n",
        "\n",
        "embedding_matrix = np.zeros((max_tokens, embedding_dim))\n",
        "for word, i in word_index.items ():\n",
        "  if i < max tokens:\n",
        "    embedding_vector = embeddings_index.get(word)\n",
        "if embedding_vector is not None:\n",
        "  embedding_matrix[i] = embedding_vector"
      ],
      "metadata": {
        "id": "ayW-jlR9KrQ_"
      },
      "execution_count": null,
      "outputs": []
    },
    {
      "cell_type": "code",
      "source": [
        "\n",
        "embedding layer = layers.Embedding(\n",
        "    max_tokens, \n",
        "    embedding dim,\n",
        "    embeddings_initializer=keras.initializers.Constant(embedding_matrix), \n",
        "    trainable=False, \n",
        "    mask_zero=True,\n",
        ")"
      ],
      "metadata": {
        "id": "GqoQeR44L4Pw"
      },
      "execution_count": null,
      "outputs": []
    }
  ]
}