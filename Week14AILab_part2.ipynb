{
  "cells": [
    {
      "cell_type": "markdown",
      "metadata": {
        "id": "view-in-github",
        "colab_type": "text"
      },
      "source": [
        "<a href=\"https://colab.research.google.com/github/Khai2708/Ai_application/blob/main/Week14AILab_part2.ipynb\" target=\"_parent\"><img src=\"https://colab.research.google.com/assets/colab-badge.svg\" alt=\"Open In Colab\"/></a>"
      ]
    },
    {
      "cell_type": "markdown",
      "metadata": {
        "id": "DCuVAUL4ClAv"
      },
      "source": [
        "This is a companion notebook for the book [Deep Learning with Python, Second Edition](https://www.manning.com/books/deep-learning-with-python-second-edition?a_aid=keras&a_bid=76564dff). For readability, it only contains runnable code blocks and section titles, and omits everything else in the book: text paragraphs, figures, and pseudocode.\n",
        "\n",
        "**If you want to be able to follow what's going on, I recommend reading the notebook side by side with your copy of the book.**\n",
        "\n",
        "This notebook was generated for TensorFlow 2.6."
      ]
    },
    {
      "cell_type": "markdown",
      "metadata": {
        "id": "_hu8Tg1wClAx"
      },
      "source": [
        "## Beyond text classification: Sequence-to-sequence learning"
      ]
    },
    {
      "cell_type": "markdown",
      "metadata": {
        "id": "HYk958HwClAx"
      },
      "source": [
        "### A machine translation example"
      ]
    },
    {
      "cell_type": "code",
      "execution_count": null,
      "metadata": {
        "id": "3g58p7kzClAx",
        "colab": {
          "base_uri": "https://localhost:8080/"
        },
        "outputId": "6662f8da-2203-455d-e9b5-83acc252a796"
      },
      "outputs": [
        {
          "output_type": "stream",
          "name": "stdout",
          "text": [
            "--2022-12-05 12:36:20--  http://storage.googleapis.com/download.tensorflow.org/data/spa-eng.zip\n",
            "Resolving storage.googleapis.com (storage.googleapis.com)... 74.125.24.128, 172.217.194.128, 142.251.10.128, ...\n",
            "Connecting to storage.googleapis.com (storage.googleapis.com)|74.125.24.128|:80... connected.\n",
            "HTTP request sent, awaiting response... 200 OK\n",
            "Length: 2638744 (2.5M) [application/zip]\n",
            "Saving to: ‘spa-eng.zip’\n",
            "\n",
            "\rspa-eng.zip           0%[                    ]       0  --.-KB/s               \rspa-eng.zip         100%[===================>]   2.52M  --.-KB/s    in 0.02s   \n",
            "\n",
            "2022-12-05 12:36:20 (159 MB/s) - ‘spa-eng.zip’ saved [2638744/2638744]\n",
            "\n"
          ]
        }
      ],
      "source": [
        "!wget http://storage.googleapis.com/download.tensorflow.org/data/spa-eng.zip\n",
        "!unzip -q spa-eng.zip"
      ]
    },
    {
      "cell_type": "code",
      "execution_count": null,
      "metadata": {
        "id": "l68JstTtClAy"
      },
      "outputs": [],
      "source": [
        "text_file = \"spa-eng/spa.txt\"\n",
        "with open(text_file) as f:\n",
        "    lines = f.read().split(\"\\n\")[:-1]\n",
        "text_pairs = []\n",
        "for line in lines:\n",
        "    english, spanish = line.split(\"\\t\")\n",
        "    spanish = \"[start] \" + spanish + \" [end]\"\n",
        "    text_pairs.append((english, spanish))"
      ]
    },
    {
      "cell_type": "markdown",
      "source": [
        "In weel 14 Lab part 2 we are going to learn the Sequence-to-sequence learning. At first, we downloaded necessary data files from tensorflow. "
      ],
      "metadata": {
        "id": "ydcCyy-caL62"
      }
    },
    {
      "cell_type": "code",
      "execution_count": null,
      "metadata": {
        "id": "sNOtVPttClAy",
        "colab": {
          "base_uri": "https://localhost:8080/"
        },
        "outputId": "f250a7e3-26a5-40f3-f52a-7548ef392b02"
      },
      "outputs": [
        {
          "output_type": "stream",
          "name": "stdout",
          "text": [
            "('Will you wake me at seven?', '[start] ¿Me despertarás a las siete? [end]')\n"
          ]
        }
      ],
      "source": [
        "import random\n",
        "print(random.choice(text_pairs))"
      ]
    },
    {
      "cell_type": "code",
      "execution_count": null,
      "metadata": {
        "id": "5R8ro4RFClAy"
      },
      "outputs": [],
      "source": [
        "import random\n",
        "random.shuffle(text_pairs)\n",
        "num_val_samples = int(0.15 * len(text_pairs))\n",
        "num_train_samples = len(text_pairs) - 2 * num_val_samples\n",
        "train_pairs = text_pairs[:num_train_samples]\n",
        "val_pairs = text_pairs[num_train_samples:num_train_samples + num_val_samples]\n",
        "test_pairs = text_pairs[num_train_samples + num_val_samples:]"
      ]
    },
    {
      "cell_type": "markdown",
      "source": [
        "Then, we defined some variables like num_val_samples, num_train_samples, train_pairs, val_pairs, test_pairs"
      ],
      "metadata": {
        "id": "2xKS4NUNaPLz"
      }
    },
    {
      "cell_type": "markdown",
      "metadata": {
        "id": "IUJvJ_rzClAz"
      },
      "source": [
        "**Vectorizing the English and Spanish text pairs**"
      ]
    },
    {
      "cell_type": "code",
      "execution_count": null,
      "metadata": {
        "id": "w69RuiqYClAz"
      },
      "outputs": [],
      "source": [
        "import tensorflow as tf\n",
        "import string\n",
        "import re\n",
        "from tensorflow.keras import layers\n",
        "\n",
        "strip_chars = string.punctuation + \"¿\"\n",
        "strip_chars = strip_chars.replace(\"[\", \"\")\n",
        "strip_chars = strip_chars.replace(\"]\", \"\")\n",
        "\n",
        "def custom_standardization(input_string):\n",
        "    lowercase = tf.strings.lower(input_string)\n",
        "    return tf.strings.regex_replace(\n",
        "        lowercase, f\"[{re.escape(strip_chars)}]\", \"\")\n",
        "\n",
        "vocab_size = 15000\n",
        "sequence_length = 20\n",
        "\n",
        "source_vectorization = layers.TextVectorization(\n",
        "    max_tokens=vocab_size,\n",
        "    output_mode=\"int\",\n",
        "    output_sequence_length=sequence_length,\n",
        ")\n",
        "target_vectorization = layers.TextVectorization(\n",
        "    max_tokens=vocab_size,\n",
        "    output_mode=\"int\",\n",
        "    output_sequence_length=sequence_length + 1,\n",
        "    standardize=custom_standardization,\n",
        ")\n",
        "train_english_texts = [pair[0] for pair in train_pairs]\n",
        "train_spanish_texts = [pair[1] for pair in train_pairs]\n",
        "source_vectorization.adapt(train_english_texts)\n",
        "target_vectorization.adapt(train_spanish_texts)"
      ]
    },
    {
      "cell_type": "markdown",
      "metadata": {
        "id": "Qd6G6pIGClAz"
      },
      "source": [
        "**Preparing datasets for the translation task**"
      ]
    },
    {
      "cell_type": "code",
      "execution_count": null,
      "metadata": {
        "id": "zYixQ80cClAz"
      },
      "outputs": [],
      "source": [
        "batch_size = 64\n",
        "\n",
        "def format_dataset(eng, spa):\n",
        "    eng = source_vectorization(eng)\n",
        "    spa = target_vectorization(spa)\n",
        "    return ({\n",
        "        \"english\": eng,\n",
        "        \"spanish\": spa[:, :-1],\n",
        "    }, spa[:, 1:])\n",
        "\n",
        "def make_dataset(pairs):\n",
        "    eng_texts, spa_texts = zip(*pairs)\n",
        "    eng_texts = list(eng_texts)\n",
        "    spa_texts = list(spa_texts)\n",
        "    dataset = tf.data.Dataset.from_tensor_slices((eng_texts, spa_texts))\n",
        "    dataset = dataset.batch(batch_size)\n",
        "    dataset = dataset.map(format_dataset, num_parallel_calls=4)\n",
        "    return dataset.shuffle(2048).prefetch(16).cache()\n",
        "\n",
        "train_ds = make_dataset(train_pairs)\n",
        "val_ds = make_dataset(val_pairs)"
      ]
    },
    {
      "cell_type": "code",
      "execution_count": null,
      "metadata": {
        "id": "mu1RJ5RVClA0",
        "colab": {
          "base_uri": "https://localhost:8080/"
        },
        "outputId": "2cdccc22-b371-4e92-c796-6b9e604f97ce"
      },
      "outputs": [
        {
          "output_type": "stream",
          "name": "stdout",
          "text": [
            "inputs['english'].shape: (64, 20)\n",
            "inputs['spanish'].shape: (64, 20)\n",
            "targets.shape: (64, 20)\n"
          ]
        }
      ],
      "source": [
        "for inputs, targets in train_ds.take(1):\n",
        "    print(f\"inputs['english'].shape: {inputs['english'].shape}\")\n",
        "    print(f\"inputs['spanish'].shape: {inputs['spanish'].shape}\")\n",
        "    print(f\"targets.shape: {targets.shape}\")"
      ]
    },
    {
      "cell_type": "markdown",
      "metadata": {
        "id": "QDgwIrtKClA0"
      },
      "source": [
        "### Sequence-to-sequence learning with RNNs"
      ]
    },
    {
      "cell_type": "markdown",
      "metadata": {
        "id": "oI-OqXluClA0"
      },
      "source": [
        "**GRU-based encoder**"
      ]
    },
    {
      "cell_type": "code",
      "execution_count": null,
      "metadata": {
        "id": "94TmWDmAClA0"
      },
      "outputs": [],
      "source": [
        "from tensorflow import keras\n",
        "from tensorflow.keras import layers\n",
        "\n",
        "embed_dim = 256\n",
        "latent_dim = 1024\n",
        "\n",
        "source = keras.Input(shape=(None,), dtype=\"int64\", name=\"english\")\n",
        "x = layers.Embedding(vocab_size, embed_dim, mask_zero=True)(source)\n",
        "encoded_source = layers.Bidirectional(\n",
        "    layers.GRU(latent_dim), merge_mode=\"sum\")(x)"
      ]
    },
    {
      "cell_type": "markdown",
      "metadata": {
        "id": "44G1trFaClA0"
      },
      "source": [
        "**GRU-based decoder and the end-to-end model**"
      ]
    },
    {
      "cell_type": "code",
      "execution_count": null,
      "metadata": {
        "id": "sFGgyO1pClA1"
      },
      "outputs": [],
      "source": [
        "past_target = keras.Input(shape=(None,), dtype=\"int64\", name=\"spanish\")\n",
        "x = layers.Embedding(vocab_size, embed_dim, mask_zero=True)(past_target)\n",
        "decoder_gru = layers.GRU(latent_dim, return_sequences=True)\n",
        "x = decoder_gru(x, initial_state=encoded_source)\n",
        "x = layers.Dropout(0.5)(x)\n",
        "target_next_step = layers.Dense(vocab_size, activation=\"softmax\")(x)\n",
        "seq2seq_rnn = keras.Model([source, past_target], target_next_step)"
      ]
    },
    {
      "cell_type": "markdown",
      "metadata": {
        "id": "gsPJM6lQClA1"
      },
      "source": [
        "**Training our recurrent sequence-to-sequence model**"
      ]
    },
    {
      "cell_type": "code",
      "execution_count": null,
      "metadata": {
        "id": "jZnrWq0_ClA1",
        "colab": {
          "base_uri": "https://localhost:8080/"
        },
        "outputId": "3c472a04-afa9-4e4e-e448-edca5a3e23ca"
      },
      "outputs": [
        {
          "output_type": "stream",
          "name": "stdout",
          "text": [
            "Epoch 1/15\n",
            "1302/1302 [==============================] - 138s 93ms/step - loss: 1.6389 - accuracy: 0.4163 - val_loss: 1.3226 - val_accuracy: 0.5056\n",
            "Epoch 2/15\n",
            "1302/1302 [==============================] - 116s 89ms/step - loss: 1.3131 - accuracy: 0.5268 - val_loss: 1.1565 - val_accuracy: 0.5681\n",
            "Epoch 3/15\n",
            "1302/1302 [==============================] - 116s 89ms/step - loss: 1.1676 - accuracy: 0.5781 - val_loss: 1.0725 - val_accuracy: 0.6016\n",
            "Epoch 4/15\n",
            "1302/1302 [==============================] - 116s 89ms/step - loss: 1.0770 - accuracy: 0.6103 - val_loss: 1.0378 - val_accuracy: 0.6191\n",
            "Epoch 5/15\n",
            "1302/1302 [==============================] - 116s 89ms/step - loss: 1.0315 - accuracy: 0.6339 - val_loss: 1.0263 - val_accuracy: 0.6297\n",
            "Epoch 6/15\n",
            "1302/1302 [==============================] - 116s 89ms/step - loss: 1.0016 - accuracy: 0.6522 - val_loss: 1.0223 - val_accuracy: 0.6351\n",
            "Epoch 7/15\n",
            "1302/1302 [==============================] - 116s 89ms/step - loss: 0.9820 - accuracy: 0.6659 - val_loss: 1.0229 - val_accuracy: 0.6379\n",
            "Epoch 8/15\n",
            "1302/1302 [==============================] - 116s 89ms/step - loss: 0.9695 - accuracy: 0.6755 - val_loss: 1.0271 - val_accuracy: 0.6389\n",
            "Epoch 9/15\n",
            "1302/1302 [==============================] - 116s 89ms/step - loss: 0.9594 - accuracy: 0.6836 - val_loss: 1.0304 - val_accuracy: 0.6399\n",
            "Epoch 10/15\n",
            "1302/1302 [==============================] - 116s 89ms/step - loss: 0.9524 - accuracy: 0.6891 - val_loss: 1.0350 - val_accuracy: 0.6410\n",
            "Epoch 11/15\n",
            "1302/1302 [==============================] - 116s 89ms/step - loss: 0.9471 - accuracy: 0.6933 - val_loss: 1.0333 - val_accuracy: 0.6442\n",
            "Epoch 12/15\n",
            "1302/1302 [==============================] - 116s 89ms/step - loss: 0.9433 - accuracy: 0.6964 - val_loss: 1.0384 - val_accuracy: 0.6427\n",
            "Epoch 13/15\n",
            "1302/1302 [==============================] - 116s 89ms/step - loss: 0.9411 - accuracy: 0.6984 - val_loss: 1.0377 - val_accuracy: 0.6445\n",
            "Epoch 14/15\n",
            "1302/1302 [==============================] - 116s 89ms/step - loss: 0.9403 - accuracy: 0.6990 - val_loss: 1.0401 - val_accuracy: 0.6430\n",
            "Epoch 15/15\n",
            "1302/1302 [==============================] - 116s 89ms/step - loss: 0.9395 - accuracy: 0.7008 - val_loss: 1.0415 - val_accuracy: 0.6435\n"
          ]
        },
        {
          "output_type": "execute_result",
          "data": {
            "text/plain": [
              "<keras.callbacks.History at 0x7fda4702ea90>"
            ]
          },
          "metadata": {},
          "execution_count": 12
        }
      ],
      "source": [
        "seq2seq_rnn.compile(\n",
        "    optimizer=\"rmsprop\",\n",
        "    loss=\"sparse_categorical_crossentropy\",\n",
        "    metrics=[\"accuracy\"])\n",
        "seq2seq_rnn.fit(train_ds, epochs=15, validation_data=val_ds)"
      ]
    },
    {
      "cell_type": "markdown",
      "metadata": {
        "id": "DlW2QqYlClA1"
      },
      "source": [
        "**Translating new sentences with our RNN encoder and decoder**"
      ]
    },
    {
      "cell_type": "code",
      "execution_count": null,
      "metadata": {
        "id": "mpMoh3qqClA1",
        "colab": {
          "base_uri": "https://localhost:8080/"
        },
        "outputId": "32363891-a666-43d7-eff6-231f352398df"
      },
      "outputs": [
        {
          "output_type": "stream",
          "name": "stdout",
          "text": [
            "-\n",
            "I was at the supermarket.\n",
            "1/1 [==============================] - 4s 4s/step\n",
            "1/1 [==============================] - 0s 25ms/step\n",
            "1/1 [==============================] - 0s 66ms/step\n",
            "1/1 [==============================] - 0s 21ms/step\n",
            "1/1 [==============================] - 0s 20ms/step\n",
            "1/1 [==============================] - 0s 22ms/step\n",
            "[start] yo estaba en el lugar [end]\n",
            "-\n",
            "The fourth month is called April.\n",
            "1/1 [==============================] - 0s 20ms/step\n",
            "1/1 [==============================] - 0s 19ms/step\n",
            "1/1 [==============================] - 0s 22ms/step\n",
            "1/1 [==============================] - 0s 20ms/step\n",
            "1/1 [==============================] - 0s 24ms/step\n",
            "1/1 [==============================] - 0s 19ms/step\n",
            "1/1 [==============================] - 0s 19ms/step\n",
            "[start] el mes se hizo un mes [end]\n",
            "-\n",
            "I have to get this spade fixed.\n",
            "1/1 [==============================] - 0s 19ms/step\n",
            "1/1 [==============================] - 0s 18ms/step\n",
            "1/1 [==============================] - 0s 21ms/step\n",
            "1/1 [==============================] - 0s 21ms/step\n",
            "1/1 [==============================] - 0s 21ms/step\n",
            "1/1 [==============================] - 0s 23ms/step\n",
            "1/1 [==============================] - 0s 22ms/step\n",
            "1/1 [==============================] - 0s 20ms/step\n",
            "1/1 [==============================] - 0s 22ms/step\n",
            "[start] tengo que [UNK] esta [UNK] a las manos [end]\n",
            "-\n",
            "Tom convinced Mary to go along with the scheme.\n",
            "1/1 [==============================] - 0s 32ms/step\n",
            "1/1 [==============================] - 0s 23ms/step\n",
            "1/1 [==============================] - 0s 21ms/step\n",
            "1/1 [==============================] - 0s 22ms/step\n",
            "1/1 [==============================] - 0s 20ms/step\n",
            "1/1 [==============================] - 0s 22ms/step\n",
            "1/1 [==============================] - 0s 21ms/step\n",
            "1/1 [==============================] - 0s 22ms/step\n",
            "1/1 [==============================] - 0s 22ms/step\n",
            "1/1 [==============================] - 0s 19ms/step\n",
            "1/1 [==============================] - 0s 20ms/step\n",
            "1/1 [==============================] - 0s 22ms/step\n",
            "1/1 [==============================] - 0s 22ms/step\n",
            "1/1 [==============================] - 0s 22ms/step\n",
            "[start] tom le va a mary para que el [UNK] bien con el [UNK] [end]\n",
            "-\n",
            "When did Tom get here?\n",
            "1/1 [==============================] - 0s 21ms/step\n",
            "1/1 [==============================] - 0s 22ms/step\n",
            "1/1 [==============================] - 0s 18ms/step\n",
            "1/1 [==============================] - 0s 23ms/step\n",
            "1/1 [==============================] - 0s 29ms/step\n",
            "1/1 [==============================] - 0s 20ms/step\n",
            "[start] cuándo se fue aquí tom [end]\n",
            "-\n",
            "Tom told me a lot about you.\n",
            "1/1 [==============================] - 0s 20ms/step\n",
            "1/1 [==============================] - 0s 21ms/step\n",
            "1/1 [==============================] - 0s 22ms/step\n",
            "1/1 [==============================] - 0s 20ms/step\n",
            "1/1 [==============================] - 0s 22ms/step\n",
            "1/1 [==============================] - 0s 20ms/step\n",
            "1/1 [==============================] - 0s 21ms/step\n",
            "[start] tom me dijo mucho sobre ti [end]\n",
            "-\n",
            "Tom can come and pick it up today.\n",
            "1/1 [==============================] - 0s 21ms/step\n",
            "1/1 [==============================] - 0s 23ms/step\n",
            "1/1 [==============================] - 0s 19ms/step\n",
            "1/1 [==============================] - 0s 19ms/step\n",
            "1/1 [==============================] - 0s 19ms/step\n",
            "1/1 [==============================] - 0s 21ms/step\n",
            "1/1 [==============================] - 0s 21ms/step\n",
            "[start] tom puede venir a mary hoy [end]\n",
            "-\n",
            "I've never had that problem.\n",
            "1/1 [==============================] - 0s 20ms/step\n",
            "1/1 [==============================] - 0s 18ms/step\n",
            "1/1 [==============================] - 0s 21ms/step\n",
            "1/1 [==============================] - 0s 20ms/step\n",
            "1/1 [==============================] - 0s 21ms/step\n",
            "1/1 [==============================] - 0s 19ms/step\n",
            "[start] nunca he visto ese problema [end]\n",
            "-\n",
            "Tom likes to take walks in the woods.\n",
            "1/1 [==============================] - 0s 20ms/step\n",
            "1/1 [==============================] - 0s 19ms/step\n",
            "1/1 [==============================] - 0s 22ms/step\n",
            "1/1 [==============================] - 0s 21ms/step\n",
            "1/1 [==============================] - 0s 22ms/step\n",
            "1/1 [==============================] - 0s 19ms/step\n",
            "1/1 [==============================] - 0s 21ms/step\n",
            "1/1 [==============================] - 0s 27ms/step\n",
            "1/1 [==============================] - 0s 22ms/step\n",
            "1/1 [==============================] - 0s 20ms/step\n",
            "1/1 [==============================] - 0s 20ms/step\n",
            "[start] a tom le gusta ir a las en el jardín [end]\n",
            "-\n",
            "The sun is coming up.\n",
            "1/1 [==============================] - 0s 18ms/step\n",
            "1/1 [==============================] - 0s 21ms/step\n",
            "1/1 [==============================] - 0s 21ms/step\n",
            "1/1 [==============================] - 0s 22ms/step\n",
            "1/1 [==============================] - 0s 19ms/step\n",
            "1/1 [==============================] - 0s 21ms/step\n",
            "[start] el sol está en casa [end]\n",
            "-\n",
            "That castle is beautiful.\n",
            "1/1 [==============================] - 0s 25ms/step\n",
            "1/1 [==============================] - 0s 20ms/step\n",
            "1/1 [==============================] - 0s 20ms/step\n",
            "1/1 [==============================] - 0s 20ms/step\n",
            "1/1 [==============================] - 0s 20ms/step\n",
            "1/1 [==============================] - 0s 21ms/step\n",
            "[start] ese es es muy alto [end]\n",
            "-\n",
            "Tom and Mary's house is very untidy.\n",
            "1/1 [==============================] - 0s 21ms/step\n",
            "1/1 [==============================] - 0s 20ms/step\n",
            "1/1 [==============================] - 0s 21ms/step\n",
            "1/1 [==============================] - 0s 18ms/step\n",
            "1/1 [==============================] - 0s 23ms/step\n",
            "1/1 [==============================] - 0s 24ms/step\n",
            "1/1 [==============================] - 0s 23ms/step\n",
            "1/1 [==============================] - 0s 20ms/step\n",
            "1/1 [==============================] - 0s 22ms/step\n",
            "1/1 [==============================] - 0s 21ms/step\n",
            "[start] tom y la casa de maría es muy [UNK] [end]\n",
            "-\n",
            "Tom got up earlier than usual this morning.\n",
            "1/1 [==============================] - 0s 21ms/step\n",
            "1/1 [==============================] - 0s 19ms/step\n",
            "1/1 [==============================] - 0s 21ms/step\n",
            "1/1 [==============================] - 0s 21ms/step\n",
            "1/1 [==============================] - 0s 19ms/step\n",
            "1/1 [==============================] - 0s 19ms/step\n",
            "1/1 [==============================] - 0s 19ms/step\n",
            "1/1 [==============================] - 0s 21ms/step\n",
            "1/1 [==============================] - 0s 21ms/step\n",
            "1/1 [==============================] - 0s 19ms/step\n",
            "1/1 [==============================] - 0s 25ms/step\n",
            "[start] tom se [UNK] más temprano de lo que esta mañana [end]\n",
            "-\n",
            "I can't buy this because I don't have enough money.\n",
            "1/1 [==============================] - 0s 20ms/step\n",
            "1/1 [==============================] - 0s 27ms/step\n",
            "1/1 [==============================] - 0s 19ms/step\n",
            "1/1 [==============================] - 0s 23ms/step\n",
            "1/1 [==============================] - 0s 23ms/step\n",
            "1/1 [==============================] - 0s 23ms/step\n",
            "1/1 [==============================] - 0s 21ms/step\n",
            "1/1 [==============================] - 0s 23ms/step\n",
            "1/1 [==============================] - 0s 23ms/step\n",
            "[start] no puedo comprar porque no tengo dinero así [end]\n",
            "-\n",
            "Tom looks young.\n",
            "1/1 [==============================] - 0s 18ms/step\n",
            "1/1 [==============================] - 0s 19ms/step\n",
            "1/1 [==============================] - 0s 21ms/step\n",
            "1/1 [==============================] - 0s 21ms/step\n",
            "[start] tom parece joven [end]\n",
            "-\n",
            "Where can we park?\n",
            "1/1 [==============================] - 0s 19ms/step\n",
            "1/1 [==============================] - 0s 20ms/step\n",
            "1/1 [==============================] - 0s 20ms/step\n",
            "1/1 [==============================] - 0s 18ms/step\n",
            "[start] dónde podemos [UNK] [end]\n",
            "-\n",
            "Have you ever been to Tokyo?\n",
            "1/1 [==============================] - 0s 19ms/step\n",
            "1/1 [==============================] - 0s 19ms/step\n",
            "1/1 [==============================] - 0s 20ms/step\n",
            "1/1 [==============================] - 0s 21ms/step\n",
            "1/1 [==============================] - 0s 21ms/step\n",
            "1/1 [==============================] - 0s 22ms/step\n",
            "1/1 [==============================] - 0s 19ms/step\n",
            "[start] has estado alguna vez en tokio [end]\n",
            "-\n",
            "She still loves him.\n",
            "1/1 [==============================] - 0s 20ms/step\n",
            "1/1 [==============================] - 0s 23ms/step\n",
            "1/1 [==============================] - 0s 19ms/step\n",
            "1/1 [==============================] - 0s 22ms/step\n",
            "1/1 [==============================] - 0s 20ms/step\n",
            "[start] ella aún lo ama [end]\n",
            "-\n",
            "Where did you find him?\n",
            "1/1 [==============================] - 0s 18ms/step\n",
            "1/1 [==============================] - 0s 20ms/step\n",
            "1/1 [==============================] - 0s 20ms/step\n",
            "1/1 [==============================] - 0s 19ms/step\n",
            "1/1 [==============================] - 0s 20ms/step\n",
            "[start] dónde lo has dicho [end]\n",
            "-\n",
            "I wouldn't go under any circumstances.\n",
            "1/1 [==============================] - 0s 20ms/step\n",
            "1/1 [==============================] - 0s 20ms/step\n",
            "1/1 [==============================] - 0s 24ms/step\n",
            "1/1 [==============================] - 0s 21ms/step\n",
            "1/1 [==============================] - 0s 21ms/step\n",
            "1/1 [==============================] - 0s 20ms/step\n",
            "[start] no yo [UNK] sin [UNK] [end]\n"
          ]
        }
      ],
      "source": [
        "import numpy as np\n",
        "spa_vocab = target_vectorization.get_vocabulary()\n",
        "spa_index_lookup = dict(zip(range(len(spa_vocab)), spa_vocab))\n",
        "max_decoded_sentence_length = 20\n",
        "\n",
        "def decode_sequence(input_sentence):\n",
        "    tokenized_input_sentence = source_vectorization([input_sentence])\n",
        "    decoded_sentence = \"[start]\"\n",
        "    for i in range(max_decoded_sentence_length):\n",
        "        tokenized_target_sentence = target_vectorization([decoded_sentence])\n",
        "        next_token_predictions = seq2seq_rnn.predict(\n",
        "            [tokenized_input_sentence, tokenized_target_sentence])\n",
        "        sampled_token_index = np.argmax(next_token_predictions[0, i, :])\n",
        "        sampled_token = spa_index_lookup[sampled_token_index]\n",
        "        decoded_sentence += \" \" + sampled_token\n",
        "        if sampled_token == \"[end]\":\n",
        "            break\n",
        "    return decoded_sentence\n",
        "\n",
        "test_eng_texts = [pair[0] for pair in test_pairs]\n",
        "for _ in range(20):\n",
        "    input_sentence = random.choice(test_eng_texts)\n",
        "    print(\"-\")\n",
        "    print(input_sentence)\n",
        "    print(decode_sequence(input_sentence))"
      ]
    },
    {
      "cell_type": "markdown",
      "metadata": {
        "id": "yv9qG78pClA1"
      },
      "source": [
        "### Sequence-to-sequence learning with Transformer"
      ]
    },
    {
      "cell_type": "markdown",
      "metadata": {
        "id": "ZLMfyCSxClA2"
      },
      "source": [
        "#### The Transformer decoder"
      ]
    },
    {
      "cell_type": "markdown",
      "metadata": {
        "id": "VYGwsCzOClA2"
      },
      "source": [
        "**The `TransformerDecoder`**"
      ]
    },
    {
      "cell_type": "code",
      "execution_count": null,
      "metadata": {
        "id": "rIUynKE5ClA2"
      },
      "outputs": [],
      "source": [
        "class TransformerDecoder(layers.Layer):\n",
        "    def __init__(self, embed_dim, dense_dim, num_heads, **kwargs):\n",
        "        super().__init__(**kwargs)\n",
        "        self.embed_dim = embed_dim\n",
        "        self.dense_dim = dense_dim\n",
        "        self.num_heads = num_heads\n",
        "        self.attention_1 = layers.MultiHeadAttention(\n",
        "            num_heads=num_heads, key_dim=embed_dim)\n",
        "        self.attention_2 = layers.MultiHeadAttention(\n",
        "            num_heads=num_heads, key_dim=embed_dim)\n",
        "        self.dense_proj = keras.Sequential(\n",
        "            [layers.Dense(dense_dim, activation=\"relu\"),\n",
        "             layers.Dense(embed_dim),]\n",
        "        )\n",
        "        self.layernorm_1 = layers.LayerNormalization()\n",
        "        self.layernorm_2 = layers.LayerNormalization()\n",
        "        self.layernorm_3 = layers.LayerNormalization()\n",
        "        self.supports_masking = True\n",
        "\n",
        "    def get_config(self):\n",
        "        config = super().get_config()\n",
        "        config.update({\n",
        "            \"embed_dim\": self.embed_dim,\n",
        "            \"num_heads\": self.num_heads,\n",
        "            \"dense_dim\": self.dense_dim,\n",
        "        })\n",
        "        return config\n",
        "\n",
        "    def get_causal_attention_mask(self, inputs):\n",
        "        input_shape = tf.shape(inputs)\n",
        "        batch_size, sequence_length = input_shape[0], input_shape[1]\n",
        "        i = tf.range(sequence_length)[:, tf.newaxis]\n",
        "        j = tf.range(sequence_length)\n",
        "        mask = tf.cast(i >= j, dtype=\"int32\")\n",
        "        mask = tf.reshape(mask, (1, input_shape[1], input_shape[1]))\n",
        "        mult = tf.concat(\n",
        "            [tf.expand_dims(batch_size, -1),\n",
        "             tf.constant([1, 1], dtype=tf.int32)], axis=0)\n",
        "        return tf.tile(mask, mult)\n",
        "\n",
        "    def call(self, inputs, encoder_outputs, mask=None):\n",
        "        causal_mask = self.get_causal_attention_mask(inputs)\n",
        "        if mask is not None:\n",
        "            padding_mask = tf.cast(\n",
        "                mask[:, tf.newaxis, :], dtype=\"int32\")\n",
        "            padding_mask = tf.minimum(padding_mask, causal_mask)\n",
        "        attention_output_1 = self.attention_1(\n",
        "            query=inputs,\n",
        "            value=inputs,\n",
        "            key=inputs,\n",
        "            attention_mask=causal_mask)\n",
        "        attention_output_1 = self.layernorm_1(inputs + attention_output_1)\n",
        "        attention_output_2 = self.attention_2(\n",
        "            query=attention_output_1,\n",
        "            value=encoder_outputs,\n",
        "            key=encoder_outputs,\n",
        "            attention_mask=padding_mask,\n",
        "        )\n",
        "        attention_output_2 = self.layernorm_2(\n",
        "            attention_output_1 + attention_output_2)\n",
        "        proj_output = self.dense_proj(attention_output_2)\n",
        "        return self.layernorm_3(attention_output_2 + proj_output)"
      ]
    },
    {
      "cell_type": "markdown",
      "source": [
        "Sequence-to-sequence learning with RNNs, creating GRU-based encoder GRU-based decoder and the end-to-end model, we trained our recurrent sequence-to-sequence model. And then, Translating new sentences with our RNN encoder and decoder"
      ],
      "metadata": {
        "id": "NCX-XRbufriB"
      }
    },
    {
      "cell_type": "markdown",
      "metadata": {
        "id": "D9sMAeFyClA2"
      },
      "source": [
        "#### Putting it all together: A Transformer for machine translation"
      ]
    },
    {
      "cell_type": "markdown",
      "metadata": {
        "id": "rau91HRXClA2"
      },
      "source": [
        "**PositionalEmbedding layer**"
      ]
    },
    {
      "cell_type": "code",
      "execution_count": null,
      "metadata": {
        "id": "B0i5EhZqClA2"
      },
      "outputs": [],
      "source": [
        "class PositionalEmbedding(layers.Layer):\n",
        "    def __init__(self, sequence_length, input_dim, output_dim, **kwargs):\n",
        "        super().__init__(**kwargs)\n",
        "        self.token_embeddings = layers.Embedding(\n",
        "            input_dim=input_dim, output_dim=output_dim)\n",
        "        self.position_embeddings = layers.Embedding(\n",
        "            input_dim=sequence_length, output_dim=output_dim)\n",
        "        self.sequence_length = sequence_length\n",
        "        self.input_dim = input_dim\n",
        "        self.output_dim = output_dim\n",
        "\n",
        "    def call(self, inputs):\n",
        "        length = tf.shape(inputs)[-1]\n",
        "        positions = tf.range(start=0, limit=length, delta=1)\n",
        "        embedded_tokens = self.token_embeddings(inputs)\n",
        "        embedded_positions = self.position_embeddings(positions)\n",
        "        return embedded_tokens + embedded_positions\n",
        "\n",
        "    def compute_mask(self, inputs, mask=None):\n",
        "        return tf.math.not_equal(inputs, 0)\n",
        "\n",
        "    def get_config(self):\n",
        "        config = super(PositionalEmbedding, self).get_config()\n",
        "        config.update({\n",
        "            \"output_dim\": self.output_dim,\n",
        "            \"sequence_length\": self.sequence_length,\n",
        "            \"input_dim\": self.input_dim,\n",
        "        })\n",
        "        return config"
      ]
    },
    {
      "cell_type": "markdown",
      "metadata": {
        "id": "4pci3CdTClA3"
      },
      "source": [
        "**End-to-end Transformer**"
      ]
    },
    {
      "cell_type": "code",
      "source": [
        "class TransformerEncoder(layers.Layer):\n",
        "    def __init__(self, embed_dim, dense_dim, num_heads, **kwargs):\n",
        "        super().__init__(**kwargs)\n",
        "        self.embed_dim = embed_dim\n",
        "        self.dense_dim = dense_dim\n",
        "        self.num_heads = num_heads\n",
        "        self.attention = layers.MultiHeadAttention(\n",
        "            num_heads=num_heads, key_dim=embed_dim, dropout=0.3\n",
        "        )\n",
        "        self.dense_proj = keras.Sequential(\n",
        "            [layers.Dense(dense_dim, activation=tf.nn.gelu), layers.Dense(embed_dim),]\n",
        "        )\n",
        "        self.layernorm_1 = layers.LayerNormalization()\n",
        "        self.layernorm_2 = layers.LayerNormalization()\n",
        "\n",
        "    def call(self, inputs, mask=None):\n",
        "        if mask is not None:\n",
        "            mask = mask[:, tf.newaxis, :]\n",
        "\n",
        "        attention_output = self.attention(inputs, inputs, attention_mask=mask)\n",
        "        proj_input = self.layernorm_1(inputs + attention_output)\n",
        "        proj_output = self.dense_proj(proj_input)\n",
        "        return self.layernorm_2(proj_input + proj_output)"
      ],
      "metadata": {
        "id": "Jj-NVdaqeYVp"
      },
      "execution_count": null,
      "outputs": []
    },
    {
      "cell_type": "code",
      "execution_count": null,
      "metadata": {
        "id": "Q26e0ETPClA3"
      },
      "outputs": [],
      "source": [
        "embed_dim = 256\n",
        "dense_dim = 2048\n",
        "num_heads = 8\n",
        "\n",
        "encoder_inputs = keras.Input(shape=(None,), dtype=\"int64\", name=\"english\")\n",
        "x = PositionalEmbedding(sequence_length, vocab_size, embed_dim)(encoder_inputs)\n",
        "encoder_outputs = TransformerEncoder(embed_dim, dense_dim, num_heads)(x)\n",
        "\n",
        "decoder_inputs = keras.Input(shape=(None,), dtype=\"int64\", name=\"spanish\")\n",
        "x = PositionalEmbedding(sequence_length, vocab_size, embed_dim)(decoder_inputs)\n",
        "x = TransformerDecoder(embed_dim, dense_dim, num_heads)(x, encoder_outputs)\n",
        "x = layers.Dropout(0.5)(x)\n",
        "decoder_outputs = layers.Dense(vocab_size, activation=\"softmax\")(x)\n",
        "transformer = keras.Model([encoder_inputs, decoder_inputs], decoder_outputs)"
      ]
    },
    {
      "cell_type": "markdown",
      "metadata": {
        "id": "aQvZGutSClA3"
      },
      "source": [
        "**Training the sequence-to-sequence Transformer**"
      ]
    },
    {
      "cell_type": "code",
      "execution_count": null,
      "metadata": {
        "id": "8T8Mhi8rClA3",
        "colab": {
          "base_uri": "https://localhost:8080/"
        },
        "outputId": "38ffe8f4-a932-4d09-f7be-0d3a98a4e5b5"
      },
      "outputs": [
        {
          "output_type": "stream",
          "name": "stdout",
          "text": [
            "Epoch 1/30\n",
            "1302/1302 [==============================] - 97s 72ms/step - loss: 1.6428 - accuracy: 0.4291 - val_loss: 1.3056 - val_accuracy: 0.5174\n",
            "Epoch 2/30\n",
            "1302/1302 [==============================] - 92s 71ms/step - loss: 1.3401 - accuracy: 0.5309 - val_loss: 1.1652 - val_accuracy: 0.5690\n",
            "Epoch 3/30\n",
            "1302/1302 [==============================] - 93s 71ms/step - loss: 1.1963 - accuracy: 0.5762 - val_loss: 1.0876 - val_accuracy: 0.5983\n",
            "Epoch 4/30\n",
            "1302/1302 [==============================] - 93s 71ms/step - loss: 1.1099 - accuracy: 0.6076 - val_loss: 1.0408 - val_accuracy: 0.6223\n",
            "Epoch 5/30\n",
            "1302/1302 [==============================] - 92s 71ms/step - loss: 1.0623 - accuracy: 0.6294 - val_loss: 1.0176 - val_accuracy: 0.6365\n",
            "Epoch 6/30\n",
            "1302/1302 [==============================] - 92s 71ms/step - loss: 1.0337 - accuracy: 0.6443 - val_loss: 1.0079 - val_accuracy: 0.6396\n",
            "Epoch 7/30\n",
            "1302/1302 [==============================] - 93s 71ms/step - loss: 1.0132 - accuracy: 0.6560 - val_loss: 1.0017 - val_accuracy: 0.6453\n",
            "Epoch 8/30\n",
            "1302/1302 [==============================] - 92s 71ms/step - loss: 0.9955 - accuracy: 0.6657 - val_loss: 0.9949 - val_accuracy: 0.6488\n",
            "Epoch 9/30\n",
            "1302/1302 [==============================] - 92s 71ms/step - loss: 0.9812 - accuracy: 0.6739 - val_loss: 0.9959 - val_accuracy: 0.6511\n",
            "Epoch 10/30\n",
            "1302/1302 [==============================] - 92s 71ms/step - loss: 0.9681 - accuracy: 0.6807 - val_loss: 0.9993 - val_accuracy: 0.6513\n",
            "Epoch 11/30\n",
            "1302/1302 [==============================] - 93s 71ms/step - loss: 0.9553 - accuracy: 0.6876 - val_loss: 0.9988 - val_accuracy: 0.6520\n",
            "Epoch 12/30\n",
            "1302/1302 [==============================] - 92s 71ms/step - loss: 0.9439 - accuracy: 0.6928 - val_loss: 0.9846 - val_accuracy: 0.6585\n",
            "Epoch 13/30\n",
            "1302/1302 [==============================] - 93s 71ms/step - loss: 0.9323 - accuracy: 0.6984 - val_loss: 0.9955 - val_accuracy: 0.6577\n",
            "Epoch 14/30\n",
            "1302/1302 [==============================] - 93s 71ms/step - loss: 0.9216 - accuracy: 0.7033 - val_loss: 0.9945 - val_accuracy: 0.6590\n",
            "Epoch 15/30\n",
            "1302/1302 [==============================] - 93s 71ms/step - loss: 0.9105 - accuracy: 0.7074 - val_loss: 0.9928 - val_accuracy: 0.6606\n",
            "Epoch 16/30\n",
            "1302/1302 [==============================] - 92s 71ms/step - loss: 0.9025 - accuracy: 0.7112 - val_loss: 0.9970 - val_accuracy: 0.6580\n",
            "Epoch 17/30\n",
            "1302/1302 [==============================] - 92s 71ms/step - loss: 0.8938 - accuracy: 0.7148 - val_loss: 0.9920 - val_accuracy: 0.6626\n",
            "Epoch 18/30\n",
            "1302/1302 [==============================] - 92s 71ms/step - loss: 0.8847 - accuracy: 0.7189 - val_loss: 0.9994 - val_accuracy: 0.6590\n",
            "Epoch 19/30\n",
            "1302/1302 [==============================] - 92s 71ms/step - loss: 0.8755 - accuracy: 0.7219 - val_loss: 1.0065 - val_accuracy: 0.6572\n",
            "Epoch 20/30\n",
            "1302/1302 [==============================] - 92s 71ms/step - loss: 0.8668 - accuracy: 0.7250 - val_loss: 1.0047 - val_accuracy: 0.6599\n",
            "Epoch 21/30\n",
            "1302/1302 [==============================] - 92s 71ms/step - loss: 0.8587 - accuracy: 0.7280 - val_loss: 0.9978 - val_accuracy: 0.6655\n",
            "Epoch 22/30\n",
            "1302/1302 [==============================] - 92s 71ms/step - loss: 0.8520 - accuracy: 0.7305 - val_loss: 1.0064 - val_accuracy: 0.6613\n",
            "Epoch 23/30\n",
            "1302/1302 [==============================] - 92s 71ms/step - loss: 0.8430 - accuracy: 0.7338 - val_loss: 1.0207 - val_accuracy: 0.6581\n",
            "Epoch 24/30\n",
            "1302/1302 [==============================] - 92s 71ms/step - loss: 0.8365 - accuracy: 0.7365 - val_loss: 1.0092 - val_accuracy: 0.6637\n",
            "Epoch 25/30\n",
            "1302/1302 [==============================] - 92s 71ms/step - loss: 0.8288 - accuracy: 0.7388 - val_loss: 1.0132 - val_accuracy: 0.6614\n",
            "Epoch 26/30\n",
            "1302/1302 [==============================] - 93s 71ms/step - loss: 0.8240 - accuracy: 0.7410 - val_loss: 1.0121 - val_accuracy: 0.6652\n",
            "Epoch 27/30\n",
            "1302/1302 [==============================] - 92s 71ms/step - loss: 0.8160 - accuracy: 0.7433 - val_loss: 1.0145 - val_accuracy: 0.6647\n",
            "Epoch 28/30\n",
            "1302/1302 [==============================] - 92s 71ms/step - loss: 0.8103 - accuracy: 0.7454 - val_loss: 1.0224 - val_accuracy: 0.6652\n",
            "Epoch 29/30\n",
            "1302/1302 [==============================] - 92s 71ms/step - loss: 0.8045 - accuracy: 0.7476 - val_loss: 1.0355 - val_accuracy: 0.6569\n",
            "Epoch 30/30\n",
            "1302/1302 [==============================] - 93s 71ms/step - loss: 0.7992 - accuracy: 0.7496 - val_loss: 1.0207 - val_accuracy: 0.6624\n"
          ]
        },
        {
          "output_type": "execute_result",
          "data": {
            "text/plain": [
              "<keras.callbacks.History at 0x7fdb2d4392b0>"
            ]
          },
          "metadata": {},
          "execution_count": 20
        }
      ],
      "source": [
        "transformer.compile(\n",
        "    optimizer=\"rmsprop\",\n",
        "    loss=\"sparse_categorical_crossentropy\",\n",
        "    metrics=[\"accuracy\"])\n",
        "transformer.fit(train_ds, epochs=30, validation_data=val_ds)"
      ]
    },
    {
      "cell_type": "markdown",
      "metadata": {
        "id": "8sh5c3hWClA3"
      },
      "source": [
        "**Translating new sentences with our Transformer model**"
      ]
    },
    {
      "cell_type": "code",
      "execution_count": null,
      "metadata": {
        "id": "3iGA-D6sClA3",
        "colab": {
          "base_uri": "https://localhost:8080/"
        },
        "outputId": "e59c94d2-00d4-41b1-901f-e9d194467d95"
      },
      "outputs": [
        {
          "output_type": "stream",
          "name": "stdout",
          "text": [
            "-\n",
            "We're watching.\n",
            "[start] estamos viendo [end]\n",
            "-\n",
            "I am not about to pay ten dollars.\n",
            "[start] no tengo más que pagar diez dólares [end]\n",
            "-\n",
            "I didn't mean to hit him.\n",
            "[start] no me quise [UNK] [end]\n",
            "-\n",
            "It was cold and we got a fire going.\n",
            "[start] hizo frío y nos [UNK] [end]\n",
            "-\n",
            "You know something.\n",
            "[start] usted sabe algo [end]\n",
            "-\n",
            "Tom is intellectual.\n",
            "[start] tom está [UNK] [end]\n",
            "-\n",
            "This mountain has an altitude of 3,000 meters.\n",
            "[start] esta montaña tiene un [UNK] de le de le de le de le de le gusta [end]\n",
            "-\n",
            "That's my dictionary.\n",
            "[start] ese es mi diccionario [end]\n",
            "-\n",
            "Mary asked Tom to go to the opera with her.\n",
            "[start] mary le pidió a tom que [UNK] con ella [end]\n",
            "-\n",
            "I've saved the best for last.\n",
            "[start] he [UNK] la mejor última qué debemos por última [end]\n",
            "-\n",
            "Tell me what you have in mind.\n",
            "[start] dime qué tienes en decisión si no [UNK] [end]\n",
            "-\n",
            "I love fish.\n",
            "[start] me encanta el pez [end]\n",
            "-\n",
            "He promised to marry her.\n",
            "[start] Él prometió [UNK] en ella [end]\n",
            "-\n",
            "They are in trouble. Can you help them?\n",
            "[start] ellos están en problemas pueden [UNK] [end]\n",
            "-\n",
            "This place is ours.\n",
            "[start] este lugar es nuestro [end]\n",
            "-\n",
            "I have problems with my wife, too.\n",
            "[start] tengo problemas con mi esposa [end]\n",
            "-\n",
            "Since I'm here, let me help you.\n",
            "[start] como estoy aquí yo me [UNK] de ayuda [end]\n",
            "-\n",
            "This chair is very comfortable.\n",
            "[start] esta silla está muy se [end]\n",
            "-\n",
            "Making good grades requires studying hard.\n",
            "[start] hacer las las noticias [UNK] hacer duro [end]\n",
            "-\n",
            "We're studying French.\n",
            "[start] estamos estudiando francés [end]\n"
          ]
        }
      ],
      "source": [
        "import numpy as np\n",
        "spa_vocab = target_vectorization.get_vocabulary()\n",
        "spa_index_lookup = dict(zip(range(len(spa_vocab)), spa_vocab))\n",
        "max_decoded_sentence_length = 20\n",
        "\n",
        "def decode_sequence(input_sentence):\n",
        "    tokenized_input_sentence = source_vectorization([input_sentence])\n",
        "    decoded_sentence = \"[start]\"\n",
        "    for i in range(max_decoded_sentence_length):\n",
        "        tokenized_target_sentence = target_vectorization(\n",
        "            [decoded_sentence])[:, :-1]\n",
        "        predictions = transformer(\n",
        "            [tokenized_input_sentence, tokenized_target_sentence])\n",
        "        sampled_token_index = np.argmax(predictions[0, i, :])\n",
        "        sampled_token = spa_index_lookup[sampled_token_index]\n",
        "        decoded_sentence += \" \" + sampled_token\n",
        "        if sampled_token == \"[end]\":\n",
        "            break\n",
        "    return decoded_sentence\n",
        "\n",
        "test_eng_texts = [pair[0] for pair in test_pairs]\n",
        "for _ in range(20):\n",
        "    input_sentence = random.choice(test_eng_texts)\n",
        "    print(\"-\")\n",
        "    print(input_sentence)\n",
        "    print(decode_sequence(input_sentence))"
      ]
    },
    {
      "cell_type": "markdown",
      "source": [
        " Sequence-to-sequence learning with Transformer\n",
        "First, we defined The TransformerDecoder and The TransformerEncoder and Putting it all together: A Transformer for machine translation, we trained the sequence-to-sequence Transformer, Finally, translated new sentences  with our Transformer mode"
      ],
      "metadata": {
        "id": "sQheu-jAfmL1"
      }
    },
    {
      "cell_type": "markdown",
      "metadata": {
        "id": "kFDPR2mDClA4"
      },
      "source": [
        "## Summary"
      ]
    }
  ],
  "metadata": {
    "colab": {
      "provenance": [],
      "include_colab_link": true
    },
    "kernelspec": {
      "display_name": "Python 3",
      "language": "python",
      "name": "python3"
    },
    "language_info": {
      "codemirror_mode": {
        "name": "ipython",
        "version": 3
      },
      "file_extension": ".py",
      "mimetype": "text/x-python",
      "name": "python",
      "nbconvert_exporter": "python",
      "pygments_lexer": "ipython3",
      "version": "3.7.0"
    },
    "accelerator": "GPU",
    "gpuClass": "standard"
  },
  "nbformat": 4,
  "nbformat_minor": 0
}